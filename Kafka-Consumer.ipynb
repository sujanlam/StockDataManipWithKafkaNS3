{
 "cells": [
  {
   "cell_type": "code",
   "execution_count": 52,
   "id": "851e4b58-0d84-41a0-9e31-f107b1a6fdf5",
   "metadata": {},
   "outputs": [],
   "source": [
    "# !pip install s3fs\n",
    "from kafka import KafkaConsumer\n",
    "from time import sleep \n",
    "from json import dumps,loads\n",
    "import json\n",
    "from s3fs import S3FileSystem"
   ]
  },
  {
   "cell_type": "code",
   "execution_count": 54,
   "id": "785cff1e-1cce-4725-b024-6e4065b8bfad",
   "metadata": {},
   "outputs": [],
   "source": [
    "consumer = KafkaConsumer(\n",
    "    'sampletopic',\n",
    "     bootstrap_servers=['3.133.94.54:9092'],\n",
    "    value_deserializer=lambda x: loads(x.decode('utf-8')))"
   ]
  },
  {
   "cell_type": "code",
   "execution_count": 56,
   "id": "73a0808f-65ef-4704-bf55-4b5b5452ff1e",
   "metadata": {},
   "outputs": [],
   "source": [
    "#for c in consumer:\n",
    "#  print(c.value)"
   ]
  },
  {
   "cell_type": "code",
   "execution_count": 58,
   "id": "81ed6da3-02dd-4fe6-8a14-a0936083d9a5",
   "metadata": {},
   "outputs": [],
   "source": [
    "s3 = S3FileSystem()"
   ]
  },
  {
   "cell_type": "code",
   "execution_count": null,
   "id": "91d6e755-0974-44be-8031-d6af7144fde6",
   "metadata": {},
   "outputs": [],
   "source": [
    "for count, i in enumerate(consumer):\n",
    "    with s3.open(\"s3://**********/stock_market_{}\".format(count), 'w') as file:\n",
    "        json.dump(i.value, file)"
   ]
  }
 ],
 "metadata": {
  "kernelspec": {
   "display_name": "Python 3 (ipykernel)",
   "language": "python",
   "name": "python3"
  },
  "language_info": {
   "codemirror_mode": {
    "name": "ipython",
    "version": 3
   },
   "file_extension": ".py",
   "mimetype": "text/x-python",
   "name": "python",
   "nbconvert_exporter": "python",
   "pygments_lexer": "ipython3",
   "version": "3.11.7"
  }
 },
 "nbformat": 4,
 "nbformat_minor": 5
}
